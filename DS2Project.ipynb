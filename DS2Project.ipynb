{
 "cells": [
  {
   "cell_type": "code",
   "execution_count": 1,
   "id": "95f6bf9d-3418-45c2-8026-4897d4a937ef",
   "metadata": {},
   "outputs": [
    {
     "name": "stdout",
     "output_type": "stream",
     "text": [
      "Cloning into 'DS2Project'...\n",
      "warning: You appear to have cloned an empty repository.\n"
     ]
    }
   ],
   "source": [
    "!git clone https://github.com/cmstewa19/DS2Project.git"
   ]
  },
  {
   "cell_type": "code",
   "execution_count": 7,
   "id": "826cecb1-7759-4f31-8763-bc98b86a33ce",
   "metadata": {},
   "outputs": [
    {
     "name": "stdout",
     "output_type": "stream",
     "text": [
      "Requirement already satisfied: jupyterlab-git in /Users/cadencestewart/myenv/lib/python3.12/site-packages (0.50.2)\n",
      "Requirement already satisfied: jupyter-server<3,>=2.0.1 in /Users/cadencestewart/myenv/lib/python3.12/site-packages (from jupyterlab-git) (2.14.2)\n",
      "Requirement already satisfied: nbdime~=4.0.1 in /Users/cadencestewart/myenv/lib/python3.12/site-packages (from jupyterlab-git) (4.0.2)\n",
      "Requirement already satisfied: nbformat in /Users/cadencestewart/myenv/lib/python3.12/site-packages (from jupyterlab-git) (5.10.4)\n",
      "Requirement already satisfied: packaging in /Users/cadencestewart/myenv/lib/python3.12/site-packages (from jupyterlab-git) (24.1)\n",
      "Requirement already satisfied: pexpect in /Users/cadencestewart/myenv/lib/python3.12/site-packages (from jupyterlab-git) (4.9.0)\n",
      "Requirement already satisfied: traitlets~=5.0 in /Users/cadencestewart/myenv/lib/python3.12/site-packages (from jupyterlab-git) (5.14.3)\n",
      "Requirement already satisfied: anyio>=3.1.0 in /Users/cadencestewart/myenv/lib/python3.12/site-packages (from jupyter-server<3,>=2.0.1->jupyterlab-git) (4.6.0)\n",
      "Requirement already satisfied: argon2-cffi>=21.1 in /Users/cadencestewart/myenv/lib/python3.12/site-packages (from jupyter-server<3,>=2.0.1->jupyterlab-git) (23.1.0)\n",
      "Requirement already satisfied: jinja2>=3.0.3 in /Users/cadencestewart/myenv/lib/python3.12/site-packages (from jupyter-server<3,>=2.0.1->jupyterlab-git) (3.1.4)\n",
      "Requirement already satisfied: jupyter-client>=7.4.4 in /Users/cadencestewart/myenv/lib/python3.12/site-packages (from jupyter-server<3,>=2.0.1->jupyterlab-git) (8.6.3)\n",
      "Requirement already satisfied: jupyter-core!=5.0.*,>=4.12 in /Users/cadencestewart/myenv/lib/python3.12/site-packages (from jupyter-server<3,>=2.0.1->jupyterlab-git) (5.7.2)\n",
      "Requirement already satisfied: jupyter-events>=0.9.0 in /Users/cadencestewart/myenv/lib/python3.12/site-packages (from jupyter-server<3,>=2.0.1->jupyterlab-git) (0.10.0)\n",
      "Requirement already satisfied: jupyter-server-terminals>=0.4.4 in /Users/cadencestewart/myenv/lib/python3.12/site-packages (from jupyter-server<3,>=2.0.1->jupyterlab-git) (0.5.3)\n",
      "Requirement already satisfied: nbconvert>=6.4.4 in /Users/cadencestewart/myenv/lib/python3.12/site-packages (from jupyter-server<3,>=2.0.1->jupyterlab-git) (7.16.4)\n",
      "Requirement already satisfied: overrides>=5.0 in /Users/cadencestewart/myenv/lib/python3.12/site-packages (from jupyter-server<3,>=2.0.1->jupyterlab-git) (7.7.0)\n",
      "Requirement already satisfied: prometheus-client>=0.9 in /Users/cadencestewart/myenv/lib/python3.12/site-packages (from jupyter-server<3,>=2.0.1->jupyterlab-git) (0.21.0)\n",
      "Requirement already satisfied: pyzmq>=24 in /Users/cadencestewart/myenv/lib/python3.12/site-packages (from jupyter-server<3,>=2.0.1->jupyterlab-git) (26.2.0)\n",
      "Requirement already satisfied: send2trash>=1.8.2 in /Users/cadencestewart/myenv/lib/python3.12/site-packages (from jupyter-server<3,>=2.0.1->jupyterlab-git) (1.8.3)\n",
      "Requirement already satisfied: terminado>=0.8.3 in /Users/cadencestewart/myenv/lib/python3.12/site-packages (from jupyter-server<3,>=2.0.1->jupyterlab-git) (0.18.1)\n",
      "Requirement already satisfied: tornado>=6.2.0 in /Users/cadencestewart/myenv/lib/python3.12/site-packages (from jupyter-server<3,>=2.0.1->jupyterlab-git) (6.4.1)\n",
      "Requirement already satisfied: websocket-client>=1.7 in /Users/cadencestewart/myenv/lib/python3.12/site-packages (from jupyter-server<3,>=2.0.1->jupyterlab-git) (1.8.0)\n",
      "Requirement already satisfied: colorama in /Users/cadencestewart/myenv/lib/python3.12/site-packages (from nbdime~=4.0.1->jupyterlab-git) (0.4.6)\n",
      "Requirement already satisfied: gitpython!=2.1.4,!=2.1.5,!=2.1.6 in /Users/cadencestewart/myenv/lib/python3.12/site-packages (from nbdime~=4.0.1->jupyterlab-git) (3.1.43)\n",
      "Requirement already satisfied: jupyter-server-mathjax>=0.2.2 in /Users/cadencestewart/myenv/lib/python3.12/site-packages (from nbdime~=4.0.1->jupyterlab-git) (0.2.6)\n",
      "Requirement already satisfied: pygments in /Users/cadencestewart/myenv/lib/python3.12/site-packages (from nbdime~=4.0.1->jupyterlab-git) (2.18.0)\n",
      "Requirement already satisfied: requests in /Users/cadencestewart/myenv/lib/python3.12/site-packages (from nbdime~=4.0.1->jupyterlab-git) (2.32.3)\n",
      "Requirement already satisfied: fastjsonschema>=2.15 in /Users/cadencestewart/myenv/lib/python3.12/site-packages (from nbformat->jupyterlab-git) (2.20.0)\n",
      "Requirement already satisfied: jsonschema>=2.6 in /Users/cadencestewart/myenv/lib/python3.12/site-packages (from nbformat->jupyterlab-git) (4.23.0)\n",
      "Requirement already satisfied: ptyprocess>=0.5 in /Users/cadencestewart/myenv/lib/python3.12/site-packages (from pexpect->jupyterlab-git) (0.7.0)\n",
      "Requirement already satisfied: idna>=2.8 in /Users/cadencestewart/myenv/lib/python3.12/site-packages (from anyio>=3.1.0->jupyter-server<3,>=2.0.1->jupyterlab-git) (3.10)\n",
      "Requirement already satisfied: sniffio>=1.1 in /Users/cadencestewart/myenv/lib/python3.12/site-packages (from anyio>=3.1.0->jupyter-server<3,>=2.0.1->jupyterlab-git) (1.3.1)\n",
      "Requirement already satisfied: argon2-cffi-bindings in /Users/cadencestewart/myenv/lib/python3.12/site-packages (from argon2-cffi>=21.1->jupyter-server<3,>=2.0.1->jupyterlab-git) (21.2.0)\n",
      "Requirement already satisfied: gitdb<5,>=4.0.1 in /Users/cadencestewart/myenv/lib/python3.12/site-packages (from gitpython!=2.1.4,!=2.1.5,!=2.1.6->nbdime~=4.0.1->jupyterlab-git) (4.0.11)\n",
      "Requirement already satisfied: MarkupSafe>=2.0 in /Users/cadencestewart/myenv/lib/python3.12/site-packages (from jinja2>=3.0.3->jupyter-server<3,>=2.0.1->jupyterlab-git) (2.1.5)\n",
      "Requirement already satisfied: attrs>=22.2.0 in /Users/cadencestewart/myenv/lib/python3.12/site-packages (from jsonschema>=2.6->nbformat->jupyterlab-git) (24.2.0)\n",
      "Requirement already satisfied: jsonschema-specifications>=2023.03.6 in /Users/cadencestewart/myenv/lib/python3.12/site-packages (from jsonschema>=2.6->nbformat->jupyterlab-git) (2023.12.1)\n",
      "Requirement already satisfied: referencing>=0.28.4 in /Users/cadencestewart/myenv/lib/python3.12/site-packages (from jsonschema>=2.6->nbformat->jupyterlab-git) (0.35.1)\n",
      "Requirement already satisfied: rpds-py>=0.7.1 in /Users/cadencestewart/myenv/lib/python3.12/site-packages (from jsonschema>=2.6->nbformat->jupyterlab-git) (0.20.0)\n",
      "Requirement already satisfied: python-dateutil>=2.8.2 in /Users/cadencestewart/myenv/lib/python3.12/site-packages (from jupyter-client>=7.4.4->jupyter-server<3,>=2.0.1->jupyterlab-git) (2.9.0.post0)\n",
      "Requirement already satisfied: platformdirs>=2.5 in /Users/cadencestewart/myenv/lib/python3.12/site-packages (from jupyter-core!=5.0.*,>=4.12->jupyter-server<3,>=2.0.1->jupyterlab-git) (4.3.6)\n",
      "Requirement already satisfied: python-json-logger>=2.0.4 in /Users/cadencestewart/myenv/lib/python3.12/site-packages (from jupyter-events>=0.9.0->jupyter-server<3,>=2.0.1->jupyterlab-git) (2.0.7)\n",
      "Requirement already satisfied: pyyaml>=5.3 in /Users/cadencestewart/myenv/lib/python3.12/site-packages (from jupyter-events>=0.9.0->jupyter-server<3,>=2.0.1->jupyterlab-git) (6.0.2)\n",
      "Requirement already satisfied: rfc3339-validator in /Users/cadencestewart/myenv/lib/python3.12/site-packages (from jupyter-events>=0.9.0->jupyter-server<3,>=2.0.1->jupyterlab-git) (0.1.4)\n",
      "Requirement already satisfied: rfc3986-validator>=0.1.1 in /Users/cadencestewart/myenv/lib/python3.12/site-packages (from jupyter-events>=0.9.0->jupyter-server<3,>=2.0.1->jupyterlab-git) (0.1.1)\n",
      "Requirement already satisfied: beautifulsoup4 in /Users/cadencestewart/myenv/lib/python3.12/site-packages (from nbconvert>=6.4.4->jupyter-server<3,>=2.0.1->jupyterlab-git) (4.12.3)\n",
      "Requirement already satisfied: bleach!=5.0.0 in /Users/cadencestewart/myenv/lib/python3.12/site-packages (from nbconvert>=6.4.4->jupyter-server<3,>=2.0.1->jupyterlab-git) (6.1.0)\n",
      "Requirement already satisfied: defusedxml in /Users/cadencestewart/myenv/lib/python3.12/site-packages (from nbconvert>=6.4.4->jupyter-server<3,>=2.0.1->jupyterlab-git) (0.7.1)\n",
      "Requirement already satisfied: jupyterlab-pygments in /Users/cadencestewart/myenv/lib/python3.12/site-packages (from nbconvert>=6.4.4->jupyter-server<3,>=2.0.1->jupyterlab-git) (0.3.0)\n",
      "Requirement already satisfied: mistune<4,>=2.0.3 in /Users/cadencestewart/myenv/lib/python3.12/site-packages (from nbconvert>=6.4.4->jupyter-server<3,>=2.0.1->jupyterlab-git) (3.0.2)\n",
      "Requirement already satisfied: nbclient>=0.5.0 in /Users/cadencestewart/myenv/lib/python3.12/site-packages (from nbconvert>=6.4.4->jupyter-server<3,>=2.0.1->jupyterlab-git) (0.10.0)\n",
      "Requirement already satisfied: pandocfilters>=1.4.1 in /Users/cadencestewart/myenv/lib/python3.12/site-packages (from nbconvert>=6.4.4->jupyter-server<3,>=2.0.1->jupyterlab-git) (1.5.1)\n",
      "Requirement already satisfied: tinycss2 in /Users/cadencestewart/myenv/lib/python3.12/site-packages (from nbconvert>=6.4.4->jupyter-server<3,>=2.0.1->jupyterlab-git) (1.3.0)\n",
      "Requirement already satisfied: charset-normalizer<4,>=2 in /Users/cadencestewart/myenv/lib/python3.12/site-packages (from requests->nbdime~=4.0.1->jupyterlab-git) (3.3.2)\n",
      "Requirement already satisfied: urllib3<3,>=1.21.1 in /Users/cadencestewart/myenv/lib/python3.12/site-packages (from requests->nbdime~=4.0.1->jupyterlab-git) (2.2.3)\n",
      "Requirement already satisfied: certifi>=2017.4.17 in /Users/cadencestewart/myenv/lib/python3.12/site-packages (from requests->nbdime~=4.0.1->jupyterlab-git) (2024.8.30)\n",
      "Requirement already satisfied: six>=1.9.0 in /Users/cadencestewart/myenv/lib/python3.12/site-packages (from bleach!=5.0.0->nbconvert>=6.4.4->jupyter-server<3,>=2.0.1->jupyterlab-git) (1.16.0)\n",
      "Requirement already satisfied: webencodings in /Users/cadencestewart/myenv/lib/python3.12/site-packages (from bleach!=5.0.0->nbconvert>=6.4.4->jupyter-server<3,>=2.0.1->jupyterlab-git) (0.5.1)\n",
      "Requirement already satisfied: smmap<6,>=3.0.1 in /Users/cadencestewart/myenv/lib/python3.12/site-packages (from gitdb<5,>=4.0.1->gitpython!=2.1.4,!=2.1.5,!=2.1.6->nbdime~=4.0.1->jupyterlab-git) (5.0.1)\n",
      "Requirement already satisfied: fqdn in /Users/cadencestewart/myenv/lib/python3.12/site-packages (from jsonschema[format-nongpl]>=4.18.0->jupyter-events>=0.9.0->jupyter-server<3,>=2.0.1->jupyterlab-git) (1.5.1)\n",
      "Requirement already satisfied: isoduration in /Users/cadencestewart/myenv/lib/python3.12/site-packages (from jsonschema[format-nongpl]>=4.18.0->jupyter-events>=0.9.0->jupyter-server<3,>=2.0.1->jupyterlab-git) (20.11.0)\n",
      "Requirement already satisfied: jsonpointer>1.13 in /Users/cadencestewart/myenv/lib/python3.12/site-packages (from jsonschema[format-nongpl]>=4.18.0->jupyter-events>=0.9.0->jupyter-server<3,>=2.0.1->jupyterlab-git) (3.0.0)\n",
      "Requirement already satisfied: uri-template in /Users/cadencestewart/myenv/lib/python3.12/site-packages (from jsonschema[format-nongpl]>=4.18.0->jupyter-events>=0.9.0->jupyter-server<3,>=2.0.1->jupyterlab-git) (1.3.0)\n",
      "Requirement already satisfied: webcolors>=24.6.0 in /Users/cadencestewart/myenv/lib/python3.12/site-packages (from jsonschema[format-nongpl]>=4.18.0->jupyter-events>=0.9.0->jupyter-server<3,>=2.0.1->jupyterlab-git) (24.8.0)\n",
      "Requirement already satisfied: cffi>=1.0.1 in /Users/cadencestewart/myenv/lib/python3.12/site-packages (from argon2-cffi-bindings->argon2-cffi>=21.1->jupyter-server<3,>=2.0.1->jupyterlab-git) (1.17.1)\n",
      "Requirement already satisfied: soupsieve>1.2 in /Users/cadencestewart/myenv/lib/python3.12/site-packages (from beautifulsoup4->nbconvert>=6.4.4->jupyter-server<3,>=2.0.1->jupyterlab-git) (2.6)\n",
      "Requirement already satisfied: pycparser in /Users/cadencestewart/myenv/lib/python3.12/site-packages (from cffi>=1.0.1->argon2-cffi-bindings->argon2-cffi>=21.1->jupyter-server<3,>=2.0.1->jupyterlab-git) (2.22)\n",
      "Requirement already satisfied: arrow>=0.15.0 in /Users/cadencestewart/myenv/lib/python3.12/site-packages (from isoduration->jsonschema[format-nongpl]>=4.18.0->jupyter-events>=0.9.0->jupyter-server<3,>=2.0.1->jupyterlab-git) (1.3.0)\n",
      "Requirement already satisfied: types-python-dateutil>=2.8.10 in /Users/cadencestewart/myenv/lib/python3.12/site-packages (from arrow>=0.15.0->isoduration->jsonschema[format-nongpl]>=4.18.0->jupyter-events>=0.9.0->jupyter-server<3,>=2.0.1->jupyterlab-git) (2.9.0.20240906)\n",
      "\n",
      "\u001b[1m[\u001b[0m\u001b[34;49mnotice\u001b[0m\u001b[1;39;49m]\u001b[0m\u001b[39;49m A new release of pip is available: \u001b[0m\u001b[31;49m24.2\u001b[0m\u001b[39;49m -> \u001b[0m\u001b[32;49m24.3.1\u001b[0m\n",
      "\u001b[1m[\u001b[0m\u001b[34;49mnotice\u001b[0m\u001b[1;39;49m]\u001b[0m\u001b[39;49m To update, run: \u001b[0m\u001b[32;49mpip install --upgrade pip\u001b[0m\n",
      "\u001b[33m(Deprecated) Installing extensions with the jupyter labextension install command is now deprecated and will be removed in a future major version of JupyterLab.\n",
      "\n",
      "Users should manage prebuilt extensions with package managers like pip and conda, and extension authors are encouraged to distribute their extensions as prebuilt packages \u001b[0m\n",
      "Building jupyterlab assets (production, minimized)\n"
     ]
    }
   ],
   "source": [
    "!pip install jupyterlab-git"
   ]
  },
  {
   "cell_type": "code",
   "execution_count": 2,
   "id": "8b66bf0b-bb69-4e68-a69b-488417c34e43",
   "metadata": {},
   "outputs": [],
   "source": [
    "!git add DS2Project.ipynb"
   ]
  },
  {
   "cell_type": "code",
   "execution_count": null,
   "id": "1c875a38-e6fa-4e98-92ab-bb6603e93ab9",
   "metadata": {},
   "outputs": [],
   "source": [
    "!git commit -m \"initial commit\""
   ]
  },
  {
   "cell_type": "code",
   "execution_count": null,
   "id": "b8c49fb7-0732-4af7-90a9-c08dbeb6eeed",
   "metadata": {},
   "outputs": [],
   "source": []
  }
 ],
 "metadata": {
  "kernelspec": {
   "display_name": "Python 3 (ipykernel)",
   "language": "python",
   "name": "python3"
  },
  "language_info": {
   "codemirror_mode": {
    "name": "ipython",
    "version": 3
   },
   "file_extension": ".py",
   "mimetype": "text/x-python",
   "name": "python",
   "nbconvert_exporter": "python",
   "pygments_lexer": "ipython3",
   "version": "3.12.7"
  }
 },
 "nbformat": 4,
 "nbformat_minor": 5
}
