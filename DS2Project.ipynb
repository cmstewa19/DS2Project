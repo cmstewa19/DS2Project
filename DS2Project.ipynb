{
 "cells": [
  {
   "cell_type": "code",
   "execution_count": 1,
   "id": "95f6bf9d-3418-45c2-8026-4897d4a937ef",
   "metadata": {},
   "outputs": [
    {
     "name": "stdout",
     "output_type": "stream",
     "text": [
      "Cloning into 'DS2Project'...\n",
      "warning: You appear to have cloned an empty repository.\n"
     ]
    }
   ],
   "source": [
    "!git clone https://github.com/cmstewa19/DS2Project.git"
   ]
  },
  {
   "cell_type": "code",
   "execution_count": 11,
   "id": "8b66bf0b-bb69-4e68-a69b-488417c34e43",
   "metadata": {},
   "outputs": [],
   "source": [
    "!git add DS2Project.ipynb"
   ]
  },
  {
   "cell_type": "code",
   "execution_count": 12,
   "id": "1c875a38-e6fa-4e98-92ab-bb6603e93ab9",
   "metadata": {},
   "outputs": [
    {
     "name": "stdout",
     "output_type": "stream",
     "text": [
      "[main 67ba4ec] initial commit\n",
      " 1 file changed, 31 insertions(+), 56 deletions(-)\n"
     ]
    }
   ],
   "source": [
    "!git commit -m \"initial commit\""
   ]
  },
  {
   "cell_type": "code",
   "execution_count": 13,
   "id": "b8c49fb7-0732-4af7-90a9-c08dbeb6eeed",
   "metadata": {},
   "outputs": [
    {
     "name": "stdout",
     "output_type": "stream",
     "text": [
      "Enumerating objects: 5, done.\n",
      "Counting objects: 100% (5/5), done.\n",
      "Delta compression using up to 8 threads\n",
      "Compressing objects: 100% (2/2), done.\n",
      "Writing objects: 100% (3/3), 675 bytes | 675.00 KiB/s, done.\n",
      "Total 3 (delta 1), reused 0 (delta 0), pack-reused 0\n",
      "remote: Resolving deltas: 100% (1/1), completed with 1 local object.\u001b[K\n",
      "To https://github.com/cmstewa19/DS2Project.git\n",
      "   b540325..67ba4ec  main -> main\n"
     ]
    }
   ],
   "source": [
    "!git push"
   ]
  }
 ],
 "metadata": {
  "kernelspec": {
   "display_name": "Python 3 (ipykernel)",
   "language": "python",
   "name": "python3"
  },
  "language_info": {
   "codemirror_mode": {
    "name": "ipython",
    "version": 3
   },
   "file_extension": ".py",
   "mimetype": "text/x-python",
   "name": "python",
   "nbconvert_exporter": "python",
   "pygments_lexer": "ipython3",
   "version": "3.12.7"
  }
 },
 "nbformat": 4,
 "nbformat_minor": 5
}
